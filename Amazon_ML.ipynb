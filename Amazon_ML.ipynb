{
 "cells": [
  {
   "cell_type": "markdown",
   "id": "d154017e",
   "metadata": {},
   "source": [
    "# Data Analysis",
    "This section focuses on the exploration and analysis of the dataset."
   ]
  },
  {
   "cell_type": "code",
   "execution_count": 1,
   "id": "1a0f3f10",
   "metadata": {},
   "outputs": [],
   "source": [
     "import pandas as pd",
     "import matplotlib.pyplot as plt",
     "",
     "# Load the dataset",
     "df = pd.read_csv('your dataset.csv')",
     "df.head()"
   ]
  },
  {
   "cell_type": "code",
   "execution_count": null,
   "id": "4a6a4848",
   "metadata": {},
   "outputs": [],
   "source": []
  },
  {
   "cell_type": "code",
   "execution_count": null,
   "id": "9352284f",
   "metadata": {},
   "outputs": [],
   "source": []
  },
  {
   "cell_type": "markdown",
   "id": "e27fdd47",
   "metadata": {},
   "source": [
    "# SQL",
    "Here we run SQL queries to extract insights from the database."
   ]
  },
  {
   "cell_type": "code",
   "execution_count": null,
   "id": "bee943e1",
   "metadata": {},
   "outputs": [],
   "source": [
   "import sqlite3",
   "",
   "# Connect to the database",
   "conn = sqlite3.connect('example.db')",
   "cursor = conn.cursor()",
   "",
   "# Execute a sample query",
   "cursor.execute('SELECT * FROM users LIMIT 5')",
   "rows = cursor.fetchall()",
   "for row in rows:",
   "    print(row)"
   ]
  },
  {
   "cell_type": "code",
   "execution_count": null,
   "id": "f8ddffad",
   "metadata": {},
   "outputs": [],
   "source": []
  },
  {
   "cell_type": "code",
   "execution_count": null,
   "id": "b65dd4aa",
   "metadata": {},
   "outputs": [],
   "source": []
  },
  {
   "cell_type": "markdown",
   "id": "f410c9c2",
   "metadata": {},
   "source": [
    "# ML"
   ]
  },
  {
   "cell_type": "code",
   "execution_count": null,
   "id": "472d21a8",
   "metadata": {},
   "outputs": [],
   "source": []
  }
 ],
 "metadata": {
  "kernelspec": {
   "display_name": "Python 3 (ipykernel)",
   "language": "python",
   "name": "python3"
  },
  "language_info": {
   "codemirror_mode": {
    "name": "ipython",
    "version": 3
   },
   "file_extension": ".py",
   "mimetype": "text/x-python",
   "name": "python",
   "nbconvert_exporter": "python",
   "pygments_lexer": "ipython3",
   "version": "3.11.5"
  }
 },
 "nbformat": 4,
 "nbformat_minor": 5
}
